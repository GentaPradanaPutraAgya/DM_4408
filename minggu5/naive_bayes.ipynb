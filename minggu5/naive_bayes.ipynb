{
  "nbformat": 4,
  "nbformat_minor": 0,
  "metadata": {
    "colab": {
      "provenance": []
    },
    "kernelspec": {
      "name": "python3",
      "display_name": "Python 3"
    },
    "language_info": {
      "name": "python"
    }
  },
  "cells": [
    {
      "cell_type": "code",
      "execution_count": 1,
      "metadata": {
        "id": "bBSwn7KmvQ-Y"
      },
      "outputs": [],
      "source": [
        "import numpy as np\n",
        "import matplotlib.pyplot as plt\n",
        "import pandas as pd"
      ]
    },
    {
      "cell_type": "code",
      "source": [
        "dataset = pd.read_csv('Indomaret_Stores_2019_08.csv')\n",
        "x = dataset.iloc[:, [2,3]].values\n",
        "y = dataset.iloc[:, -1].values"
      ],
      "metadata": {
        "id": "m_JyqccnwAXC"
      },
      "execution_count": 2,
      "outputs": []
    },
    {
      "cell_type": "code",
      "source": [
        "print(x)"
      ],
      "metadata": {
        "colab": {
          "base_uri": "https://localhost:8080/"
        },
        "id": "Jplo4832wTtS",
        "outputId": "624d17d6-8233-4596-bb87-8bffa9c3691a"
      },
      "execution_count": 3,
      "outputs": [
        {
          "output_type": "stream",
          "name": "stdout",
          "text": [
            "[['grocery_or_supermarket' 'Tungkal IV Desa']\n",
            " ['convenience_store' 'Unnamed Road']\n",
            " ['convenience_store' 'Jl. R Sukamto Rt 27 Rw 07 8 Ilir Ilir Timur Ii']\n",
            " ...\n",
            " ['grocery_or_supermarket' 'Tanah Enam Ratus']\n",
            " ['supermarket' 'Jl. Mata Ie']\n",
            " ['grocery_or_supermarket' 'Batoh']]\n"
          ]
        }
      ]
    },
    {
      "cell_type": "code",
      "source": [
        "print(y)"
      ],
      "metadata": {
        "colab": {
          "base_uri": "https://localhost:8080/"
        },
        "id": "n1uy9coewfE6",
        "outputId": "209449b6-2517-4164-d527-1a37190389b2"
      },
      "execution_count": 4,
      "outputs": [
        {
          "output_type": "stream",
          "name": "stdout",
          "text": [
            "[240319 240320 240321 ... 257456 257457 257458]\n"
          ]
        }
      ]
    },
    {
      "cell_type": "code",
      "source": [
        "from sklearn.model_selection import train_test_split\n",
        "x_train, x_test, y_train, y_test = train_test_split(x,y, test_size=0.25, random_state=0)"
      ],
      "metadata": {
        "id": "TqemAJxvwkZN"
      },
      "execution_count": 5,
      "outputs": []
    },
    {
      "cell_type": "code",
      "source": [
        "print(x_train)"
      ],
      "metadata": {
        "colab": {
          "base_uri": "https://localhost:8080/"
        },
        "id": "KB14sa7Twq_f",
        "outputId": "baa63832-c9f3-42c7-e268-af6877af675d"
      },
      "execution_count": 6,
      "outputs": [
        {
          "output_type": "stream",
          "name": "stdout",
          "text": [
            "[['convenience_store' 'Jl. Radio Dalam No.14']\n",
            " ['convenience_store' 'Gedangan']\n",
            " ['convenience_store' 'Jl. Tengsaw No.No']\n",
            " ...\n",
            " ['convenience_store' 'Jl. Kartini']\n",
            " ['convenience_store' 'Jl. Marsma R. Iswahyudi No.72']\n",
            " ['convenience_store' 'Jl. Raya Leuwidamar']]\n"
          ]
        }
      ]
    },
    {
      "cell_type": "code",
      "source": [
        "print(x_test)"
      ],
      "metadata": {
        "colab": {
          "base_uri": "https://localhost:8080/"
        },
        "id": "_IOamxtbwuSO",
        "outputId": "7d0e46da-55a0-4ccd-bd28-22539c2cafcc"
      },
      "execution_count": 7,
      "outputs": [
        {
          "output_type": "stream",
          "name": "stdout",
          "text": [
            "[['grocery_or_supermarket' 'Jl. Raya Kaliabang Tengah No.3']\n",
            " ['convenience_store' 'Jl. Panca Usaha Blok De No 23 - Cakranegara']\n",
            " ['supermarket' 'JL. Yos Sudarso']\n",
            " ...\n",
            " ['grocery_or_supermarket' 'Kapal']\n",
            " ['supermarket' 'Bone Bone']\n",
            " ['convenience_store' 'Jl. KH Agus Salim']]\n"
          ]
        }
      ]
    },
    {
      "cell_type": "code",
      "source": [
        "print(y_train)"
      ],
      "metadata": {
        "colab": {
          "base_uri": "https://localhost:8080/"
        },
        "id": "U_05dsDLw0Lx",
        "outputId": "8e2ade8e-cf56-4955-e38f-c3c873262339"
      },
      "execution_count": 8,
      "outputs": [
        {
          "output_type": "stream",
          "name": "stdout",
          "text": [
            "[241947 248299 243499 ... 250164 251118 243051]\n"
          ]
        }
      ]
    },
    {
      "cell_type": "code",
      "source": [
        "print(y_test)"
      ],
      "metadata": {
        "colab": {
          "base_uri": "https://localhost:8080/"
        },
        "id": "s8X9S5Zcw9Vr",
        "outputId": "2cfcf9e4-40a2-47a0-8661-7c0b16940200"
      },
      "execution_count": 9,
      "outputs": [
        {
          "output_type": "stream",
          "name": "stdout",
          "text": [
            "[243678 251717 252917 ... 257269 252135 250826]\n"
          ]
        }
      ]
    },
    {
      "cell_type": "code",
      "source": [
        "from sklearn.preprocessing import StandardScaler\n",
        "sc = StandardScaler()\n",
        "x_train = sc.fit_transform(x_train)\n",
        "x_test = sc.transform(x_test)"
      ],
      "metadata": {
        "id": "UFSJMSiexJe3"
      },
      "execution_count": null,
      "outputs": []
    },
    {
      "cell_type": "code",
      "source": [
        "from sklearn.naive_bayes import GaussianNB\n",
        "classifier = GaussianNB()\n",
        "classifier.fit(x_train, y_train)"
      ],
      "metadata": {
        "id": "S0EmiXcuxRlz"
      },
      "execution_count": null,
      "outputs": []
    },
    {
      "cell_type": "code",
      "source": [
        "y_pred = classifier.predict(x_test)"
      ],
      "metadata": {
        "id": "VtxeP-xdxSaJ"
      },
      "execution_count": null,
      "outputs": []
    },
    {
      "cell_type": "code",
      "source": [
        "from sklearn.metrics import confusion_matrix\n",
        "cm = confusion_matrix(y_test, y_pred)"
      ],
      "metadata": {
        "id": "O11Bfi13xWjr"
      },
      "execution_count": null,
      "outputs": []
    },
    {
      "cell_type": "code",
      "source": [
        "from matplotlib.colors import ListedColormap\n",
        "x_set, y_set = x_train, y_train\n",
        "x1, x2 = np.meshgrid(np.arange(start = x_set[:, 0].min()-1, stop = x_set[:, 0].max() +1, step=0.01)),\n",
        "                     np.arange(start = x_set[:, 1].min()-1, stop = x_set[:, 0].max() +1, step=0.01))\n",
        "plt.contourf(x1,x2, classifier,predict(np.array([x1.ravel(), x2.ravel()].T).reshape(x1.shape),alpha = 0.75, cmap = ListedColormap(('red','green')))\n",
        "plt.xlim(x1.min(), x1.max())\n",
        "plt.xlim(x2.min(), x2.max())\n",
        "for i, j in enumerate (np.unique(y_set)):\n",
        "  plt.scatter(x_set[y_set == j, 0], x_set[y_set==j, 1],\n",
        "              c = ListedColormap(('red','green'))(i), label = j) \n",
        "  plt.title('Klasifikasi Data dengan Naiive Bayes (Data Training)')\n",
        "  plt.xlabel('Umur')\n",
        "  plt.ylabel('Estimasi Gaji') \n",
        "  plt.legend()\n",
        "  plt.show                   "
      ],
      "metadata": {
        "id": "1BZQppYVxgFq"
      },
      "execution_count": null,
      "outputs": []
    }
  ]
}