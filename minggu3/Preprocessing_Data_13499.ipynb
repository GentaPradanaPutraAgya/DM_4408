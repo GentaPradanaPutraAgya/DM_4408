{
  "nbformat": 4,
  "nbformat_minor": 0,
  "metadata": {
    "colab": {
      "provenance": []
    },
    "kernelspec": {
      "name": "python3",
      "display_name": "Python 3"
    },
    "language_info": {
      "name": "python"
    }
  },
  "cells": [
    {
      "cell_type": "code",
      "execution_count": 1,
      "metadata": {
        "id": "hhXt51amavIZ"
      },
      "outputs": [],
      "source": [
        "import numpy as np\n",
        "import matplotlib.pyplot as plt\n",
        "import pandas as pd\n"
      ]
    },
    {
      "cell_type": "code",
      "source": [
        "dataset = pd.read_csv('Indomaret_Stores_2019_08.csv')\n",
        "x = dataset.iloc[:, :-1].values\n",
        "y = dataset.iloc[:, -1].values"
      ],
      "metadata": {
        "id": "XwXHaDjnhdD_"
      },
      "execution_count": 5,
      "outputs": []
    },
    {
      "cell_type": "code",
      "source": [
        "print(x)"
      ],
      "metadata": {
        "colab": {
          "base_uri": "https://localhost:8080/"
        },
        "id": "I0rT8XvZh_Rf",
        "outputId": "3b2fd98b-2643-4f4d-da7d-bbec1e05fe23"
      },
      "execution_count": 6,
      "outputs": [
        {
          "output_type": "stream",
          "name": "stdout",
          "text": [
            "[['Indomaret' 'ChIJqy-hPreeKC4R8GhPs885QEE' 'grocery_or_supermarket' ...\n",
            "  'ID' 'https://maps.google.com/?cid=4701821575204137200'\n",
            "  '2019-08-02 12:25:17']\n",
            " ['Indomaret Palembang Star' 'ChIJBzRdaDtzOy4RC0jSRmbFsbM'\n",
            "  'convenience_store' ... 'ID'\n",
            "  'https://maps.google.com/?cid=12948347446732408843'\n",
            "  '2019-08-02 12:25:17']\n",
            " ['Indomaret Maxone' 'ChIJIwAAQD12Oy4RUlzCENC2zkU' 'convenience_store'\n",
            "  ... 'ID' 'https://maps.google.com/?cid=5030158838570048594'\n",
            "  '2019-08-02 12:25:17']\n",
            " ...\n",
            " ['Indomaret Marelan 9' 'ChIJkyYdN7stMTAR3y2qdwThFSg'\n",
            "  'grocery_or_supermarket' ... 'ID'\n",
            "  'https://maps.google.com/?cid=2888462145331801567'\n",
            "  '2019-08-02 12:25:17']\n",
            " ['Indomaret Keutapang' 'ChIJNwkYtyM6QDAR845JN2Qy65k' 'supermarket' ...\n",
            "  'ID' 'https://maps.google.com/?cid=11091013913335664371'\n",
            "  '2019-08-02 12:25:17']\n",
            " ['Indomaret Batoh' 'ChIJF01KZuA5QDAR9L4iyaanP7s'\n",
            "  'grocery_or_supermarket' ... 'ID'\n",
            "  'https://maps.google.com/?cid=13492687343406202612'\n",
            "  '2019-08-02 12:25:17']]\n"
          ]
        }
      ]
    },
    {
      "cell_type": "code",
      "source": [
        "print(y)"
      ],
      "metadata": {
        "colab": {
          "base_uri": "https://localhost:8080/"
        },
        "id": "Y1DlpHywiJss",
        "outputId": "87544b52-990b-4968-c4fa-7d5140e130fa"
      },
      "execution_count": 7,
      "outputs": [
        {
          "output_type": "stream",
          "name": "stdout",
          "text": [
            "[240319 240320 240321 ... 257456 257457 257458]\n"
          ]
        }
      ]
    },
    {
      "cell_type": "code",
      "source": [
        "from sklearn.impute import SimpleImputer\n",
        "imputer = SimpleImputer(missing_values=np.nan, strategy='mean')\n",
        "imputer.fit(x[:, 1:3])\n",
        "x[:, 1:3] = imputer.transform(x[:, 1:3])"
      ],
      "metadata": {
        "id": "eKWAs8AjinWg"
      },
      "execution_count": null,
      "outputs": []
    },
    {
      "cell_type": "code",
      "source": [
        "print(x)"
      ],
      "metadata": {
        "colab": {
          "base_uri": "https://localhost:8080/"
        },
        "id": "eDhwL7aljfY_",
        "outputId": "cb60d33e-12cc-4d5b-d27f-7cbf59745244"
      },
      "execution_count": 9,
      "outputs": [
        {
          "output_type": "stream",
          "name": "stdout",
          "text": [
            "[['Indomaret' 'ChIJqy-hPreeKC4R8GhPs885QEE' 'grocery_or_supermarket' ...\n",
            "  'ID' 'https://maps.google.com/?cid=4701821575204137200'\n",
            "  '2019-08-02 12:25:17']\n",
            " ['Indomaret Palembang Star' 'ChIJBzRdaDtzOy4RC0jSRmbFsbM'\n",
            "  'convenience_store' ... 'ID'\n",
            "  'https://maps.google.com/?cid=12948347446732408843'\n",
            "  '2019-08-02 12:25:17']\n",
            " ['Indomaret Maxone' 'ChIJIwAAQD12Oy4RUlzCENC2zkU' 'convenience_store'\n",
            "  ... 'ID' 'https://maps.google.com/?cid=5030158838570048594'\n",
            "  '2019-08-02 12:25:17']\n",
            " ...\n",
            " ['Indomaret Marelan 9' 'ChIJkyYdN7stMTAR3y2qdwThFSg'\n",
            "  'grocery_or_supermarket' ... 'ID'\n",
            "  'https://maps.google.com/?cid=2888462145331801567'\n",
            "  '2019-08-02 12:25:17']\n",
            " ['Indomaret Keutapang' 'ChIJNwkYtyM6QDAR845JN2Qy65k' 'supermarket' ...\n",
            "  'ID' 'https://maps.google.com/?cid=11091013913335664371'\n",
            "  '2019-08-02 12:25:17']\n",
            " ['Indomaret Batoh' 'ChIJF01KZuA5QDAR9L4iyaanP7s'\n",
            "  'grocery_or_supermarket' ... 'ID'\n",
            "  'https://maps.google.com/?cid=13492687343406202612'\n",
            "  '2019-08-02 12:25:17']]\n"
          ]
        }
      ]
    },
    {
      "cell_type": "code",
      "source": [
        "from sklearn.compose import ColumnTransformer\n",
        "from sklearn.preprocessing import OneHotEncoder\n",
        "ct = ColumnTransformer(transformers=[('encoder', OneEncoder(), [0])], remainder='passthrought')\n",
        "x = np.array(ct.fit_transform(x))"
      ],
      "metadata": {
        "id": "JihbI6JQjt2Q"
      },
      "execution_count": null,
      "outputs": []
    },
    {
      "cell_type": "code",
      "source": [
        "print(x)"
      ],
      "metadata": {
        "colab": {
          "base_uri": "https://localhost:8080/"
        },
        "id": "weDdbnYGjyDh",
        "outputId": "ec7b4f95-2065-4134-a034-759236f4481d"
      },
      "execution_count": 10,
      "outputs": [
        {
          "output_type": "stream",
          "name": "stdout",
          "text": [
            "[['Indomaret' 'ChIJqy-hPreeKC4R8GhPs885QEE' 'grocery_or_supermarket' ...\n",
            "  'ID' 'https://maps.google.com/?cid=4701821575204137200'\n",
            "  '2019-08-02 12:25:17']\n",
            " ['Indomaret Palembang Star' 'ChIJBzRdaDtzOy4RC0jSRmbFsbM'\n",
            "  'convenience_store' ... 'ID'\n",
            "  'https://maps.google.com/?cid=12948347446732408843'\n",
            "  '2019-08-02 12:25:17']\n",
            " ['Indomaret Maxone' 'ChIJIwAAQD12Oy4RUlzCENC2zkU' 'convenience_store'\n",
            "  ... 'ID' 'https://maps.google.com/?cid=5030158838570048594'\n",
            "  '2019-08-02 12:25:17']\n",
            " ...\n",
            " ['Indomaret Marelan 9' 'ChIJkyYdN7stMTAR3y2qdwThFSg'\n",
            "  'grocery_or_supermarket' ... 'ID'\n",
            "  'https://maps.google.com/?cid=2888462145331801567'\n",
            "  '2019-08-02 12:25:17']\n",
            " ['Indomaret Keutapang' 'ChIJNwkYtyM6QDAR845JN2Qy65k' 'supermarket' ...\n",
            "  'ID' 'https://maps.google.com/?cid=11091013913335664371'\n",
            "  '2019-08-02 12:25:17']\n",
            " ['Indomaret Batoh' 'ChIJF01KZuA5QDAR9L4iyaanP7s'\n",
            "  'grocery_or_supermarket' ... 'ID'\n",
            "  'https://maps.google.com/?cid=13492687343406202612'\n",
            "  '2019-08-02 12:25:17']]\n"
          ]
        }
      ]
    },
    {
      "cell_type": "code",
      "source": [
        "from sklearn.preprocessing import LabelEncoder\n",
        "le = LabelEncoder()\n",
        "y = le.fit_transform(y)"
      ],
      "metadata": {
        "id": "ofHb_VDSwGXV"
      },
      "execution_count": null,
      "outputs": []
    },
    {
      "cell_type": "code",
      "source": [
        "from sklearn.model_selection import train_test_split\n",
        "x_train, x_test, y_train, y_test = tran_test_split(x,y, test_size=0.2, random_stat=1)"
      ],
      "metadata": {
        "id": "FYmy0N9cw4yM"
      },
      "execution_count": null,
      "outputs": []
    },
    {
      "cell_type": "code",
      "source": [
        "from sklearn.preprocessing import StandardScaler\n",
        "sc = StandardScaler()\n",
        "x_train[:, 3:] = sc.fit_transform(x_train[:, 3:])\n",
        "x_test[:, 3:] = sc.transform(x_test[:, 3:])"
      ],
      "metadata": {
        "id": "vWGu4yj7w-ad"
      },
      "execution_count": null,
      "outputs": []
    }
  ]
}